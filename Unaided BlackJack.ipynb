{
 "cells": [
  {
   "cell_type": "code",
   "execution_count": 4,
   "metadata": {},
   "outputs": [],
   "source": [
    "from random import shuffle\n",
    "\n",
    "deck_source = {2:2,3:3,4:4,5:5,6:6,7:7,8:8,9:9,10:10,\"J\":10,\"Q\":10,\"K\":10,\"A\":11}\n",
    "\n",
    "deck = list(deck_source.keys())*4"
   ]
  },
  {
   "cell_type": "code",
   "execution_count": 5,
   "metadata": {
    "scrolled": true
   },
   "outputs": [],
   "source": [
    "def A_replace(hand, total):\n",
    "    \"\"\"\n",
    "    if there is an \"A\" in the hand it will replace it so it won't get counted again.\n",
    "    reduces total hand count by 10\n",
    "    returns a tuple to get assigned (hand,total)\n",
    "    \"\"\"\n",
    "    for card in range(len(hand)):\n",
    "        if hand[card] == \"A\":\n",
    "            hand[card] = \"B\"\n",
    "            total -= 10\n",
    "            return (hand, total)\n",
    "            break"
   ]
  },
  {
   "cell_type": "code",
   "execution_count": 6,
   "metadata": {},
   "outputs": [],
   "source": [
    "class Person():\n",
    "    \"\"\"\n",
    "    Creating a person to play against the computer.\n",
    "    Input is the amount starting in the person's bank roll.\n",
    "    Person.win() will add amount to the bank roll\n",
    "    Person.lose() will subtract amount from the bank roll\n",
    "    \"\"\"\n",
    "    \n",
    "    def __init__(self,balance=500):\n",
    "        self.balance = balance\n",
    "        \n",
    "    def win(self,amount):\n",
    "        self.balance += amount\n",
    "        print(f\"You earned {amount}.  You have {self.balance} left in your account.\\n\")\n",
    "        \n",
    "    def lose(self,amount):\n",
    "        self.balance -= amount\n",
    "        if self.balance <= 0:\n",
    "            print (\"You have no money left in your account, sorry.\")\n",
    "        else:\n",
    "            print(f\"You lost {amount}.  You have {self.balance} left in your account.\\n\")"
   ]
  },
  {
   "cell_type": "code",
   "execution_count": 7,
   "metadata": {},
   "outputs": [],
   "source": [
    "def bet(max_bet):\n",
    "    \"\"\"\n",
    "    Input is the user's bankroll, i.e. the max they can bet.\n",
    "    If the player inputs a number higher than their bank roll they will be asked again.\n",
    "    bet will return the amount input.\n",
    "    \"\"\"\n",
    "    while True:\n",
    "        amount = int(input(f\"You have {max_bet} left in your account. How much would you like to bet? \"))\n",
    "        if amount <= max_bet:\n",
    "            return amount\n",
    "        else:\n",
    "            print(\"Please only bet with money you have.\")"
   ]
  },
  {
   "cell_type": "code",
   "execution_count": 8,
   "metadata": {},
   "outputs": [],
   "source": [
    "def a_round(account,amount):\n",
    "    #generates the deck and shuffles it\n",
    "    deck = list(deck_source.keys())*4\n",
    "    shuffle(deck)\n",
    "    \n",
    "    #uses pop method to create hands\n",
    "    player_hand = [deck.pop(),deck.pop()]\n",
    "    dealer_hand = [deck.pop(),deck.pop()]\n",
    "    \n",
    "    #keeps track of hand total\n",
    "    player_total = deck_source[player_hand[0]] + deck_source[player_hand[1]]\n",
    "    dealer_total = deck_source[dealer_hand[0]] + deck_source[dealer_hand[1]]\n",
    "    \n",
    "    #player's turn\n",
    "    print(f'\\nYour hand: {player_hand[0]}, {player_hand[1]}\\nDealer\\'s hand: {dealer_hand[1]}\\nYou currently have {player_total}.')\n",
    "    player_turn = True\n",
    "    player_bust = False\n",
    "    while player_turn:\n",
    "        move = input(\"Would you like to hit or stay? (H/S) \").upper()\n",
    "        if move == \"H\" or move == \"HIT\":\n",
    "            new_card = deck.pop()\n",
    "            #adds new card to hand\n",
    "            player_hand = player_hand + [new_card]\n",
    "            #creates a new value for the players hand\n",
    "            player_total += deck_source[new_card]\n",
    "            print (f\"\\nYour new card is a(n) {new_card}.\")\n",
    "            #checks for bust\n",
    "            while (\"A\" in player_hand) and player_total > 21:\n",
    "                (player_hand, player_total) = A_replace(player_hand,player_total)\n",
    "            if player_total > 21:\n",
    "                print (\"You have busted! Sorry...\")\n",
    "                player_bust = True\n",
    "                player_turn = False\n",
    "            else:\n",
    "                print(f\"You have {player_total}, the dealer shows {dealer_hand[1]}.\")\n",
    "        elif move == \"S\" or move == \"STAY\":\n",
    "            player_turn = False\n",
    "        else:\n",
    "            print(\"Please respond with H or S.\")\n",
    "            \n",
    "    #player_bust == True skips dealers turn\n",
    "    if player_bust == True:\n",
    "        account.lose(amount)\n",
    "    else:\n",
    "        print (f'\\nDealer\\'s hand: {dealer_hand[0]}, {dealer_hand[1]}.')\n",
    "        while dealer_total <= player_total:\n",
    "            new_card = deck.pop()\n",
    "            #adds new card to hand\n",
    "            dealer_hand = dealer_hand + [new_card]\n",
    "            #creates a new value for the dealers hand\n",
    "            dealer_total += deck_source[new_card]\n",
    "            #checks for bust\n",
    "            while (\"A\" in dealer_hand) and dealer_total > 21:\n",
    "                (dealer_hand, dealer_total) = A_replace(dealer_hand,dealer_total)\n",
    "            print (f\"\\nDealer's new card is a(n) {new_card}. They have {dealer_total}.\")\n",
    "        if dealer_total > 21:\n",
    "            print (\"The dealer busted, congrats!!!\")\n",
    "            account.win(amount)\n",
    "        #if neither player busts\n",
    "        else:\n",
    "            print(f\"Player's total is {player_total}, dealer's total is {dealer_total}.\\nDealer wins, sorry...\\n\")\n",
    "            account.lose(amount)"
   ]
  },
  {
   "cell_type": "code",
   "execution_count": 9,
   "metadata": {},
   "outputs": [],
   "source": [
    "from IPython.display import clear_output\n",
    "from random import shuffle\n",
    "\n",
    "def black_jack():\n",
    "    \n",
    "    #Can call back here each round to generate the deck\n",
    "    deck_source = {2:2,3:3,4:4,5:5,6:6,7:7,8:8,9:9,10:10,\"J\":10,\"Q\":10,\"K\":10,\"A\":11}\n",
    "    \n",
    "    #Creates the player with a starting bank roll\n",
    "    bank_roll = int(input(\"How much money do you have with you today? \\n\"))\n",
    "    player = Person(bank_roll)\n",
    "    \n",
    "    \n",
    "    holder = True\n",
    "    while holder:\n",
    "        response = input(\"Would you like to play? (Y/N): \").upper()\n",
    "        if response == \"Y\":\n",
    "            clear_output()\n",
    "            amount = bet(player.balance)\n",
    "            a_round(player,amount)\n",
    "        elif response == \"N\":\n",
    "            print (f\"Thank you for playing!  You have ended with {player.balance} left in your account.\")\n",
    "            holder = False\n",
    "        else:\n",
    "            print(\"Please enter either Y or N.\")"
   ]
  },
  {
   "cell_type": "code",
   "execution_count": 10,
   "metadata": {},
   "outputs": [
    {
     "name": "stdout",
     "output_type": "stream",
     "text": [
      "You have 380 left in your account. How much would you like to bet? 40\n",
      "\n",
      "Your hand: J, 5\n",
      "Dealer's hand: K\n",
      "You currently have 15.\n",
      "Would you like to hit or stay? (H/S) h\n",
      "\n",
      "Your new card is a(n) 3.\n",
      "You have 18, the dealer shows K.\n",
      "Would you like to hit or stay? (H/S) s\n",
      "\n",
      "Dealer's hand: 2, K.\n",
      "\n",
      "Dealer's new card is a(n) 4. They have 16.\n",
      "\n",
      "Dealer's new card is a(n) 10. They have 26.\n",
      "The dealer busted, congrats!!!\n",
      "You earned 40.  You have 420 left in your account.\n",
      "\n",
      "Would you like to play? (Y/N): n\n",
      "Thank you for playing!  You have ended with 420 left in your account.\n"
     ]
    }
   ],
   "source": [
    "black_jack()"
   ]
  },
  {
   "cell_type": "code",
   "execution_count": null,
   "metadata": {},
   "outputs": [],
   "source": []
  }
 ],
 "metadata": {
  "kernelspec": {
   "display_name": "Python 3",
   "language": "python",
   "name": "python3"
  },
  "language_info": {
   "codemirror_mode": {
    "name": "ipython",
    "version": 3
   },
   "file_extension": ".py",
   "mimetype": "text/x-python",
   "name": "python",
   "nbconvert_exporter": "python",
   "pygments_lexer": "ipython3",
   "version": "3.6.4"
  }
 },
 "nbformat": 4,
 "nbformat_minor": 2
}
